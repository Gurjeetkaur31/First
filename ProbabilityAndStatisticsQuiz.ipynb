{
 "cells": [
  {
   "cell_type": "markdown",
   "metadata": {},
   "source": [
    "# Question 1¶\n",
    "Calculate the sum of squares (SS) of the following set of values using the standard formula for the sum of squares."
   ]
  },
  {
   "cell_type": "code",
   "execution_count": 20,
   "metadata": {
    "collapsed": true
   },
   "outputs": [],
   "source": [
    "X = [2.6, 1.9, 3.7, 2.5, 3.1, 2.8]"
   ]
  },
  {
   "cell_type": "markdown",
   "metadata": {},
   "source": [
    "(2.6-2.77)2 = 0.029\n",
    "(1.9-2.77)2 = 0.757\n",
    "(2.5-2.77)2 = 0.073\n",
    "(3.1-2.77)2 = 0.109\n",
    "(3.7-2.77)2 = 0.865\n",
    "(2.8-2.77)2 = 0.001\n",
    "\n",
    "sum of squares = 1.834"
   ]
  },
  {
   "cell_type": "markdown",
   "metadata": {},
   "source": [
    "# Question 2\n",
    "If the sample standard deviation of 30 values is 1.79, what is the sum of squares (SS)? "
   ]
  },
  {
   "cell_type": "markdown",
   "metadata": {},
   "source": [
    "standard deviation = 1.79\n",
    "total number of values = 30\n",
    "standard deviation = (square root of(sum of squares)/n)\n"
   ]
  },
  {
   "cell_type": "code",
   "execution_count": 45,
   "metadata": {},
   "outputs": [
    {
     "data": {
      "text/plain": [
       "96.123"
      ]
     },
     "execution_count": 45,
     "metadata": {},
     "output_type": "execute_result"
    }
   ],
   "source": [
    "standard_deviation = 1.79\n",
    "n=30\n",
    "sum_of_squares = (standard_deviation*standard_deviation)*n\n",
    "sum_of_squares"
   ]
  },
  {
   "cell_type": "markdown",
   "metadata": {},
   "source": [
    "# Question 3\n",
    "Calculate the mean, median, sum of squares, variance, standard deviation for the following 6 values:"
   ]
  },
  {
   "cell_type": "code",
   "execution_count": 3,
   "metadata": {
    "collapsed": true
   },
   "outputs": [],
   "source": [
    "X = [16, 22, 11, 14, 13, 31]"
   ]
  },
  {
   "cell_type": "markdown",
   "metadata": {},
   "source": [
    "mean = (16+ 22+ 11 14+ 13+ 31)/6 = 17.833\n",
    "#median\n",
    "#11,13,14,16,22,31\n",
    "median = (14+16)/2 = 15\n",
    "sum of squares = 278.83\n",
    "variance = 55.77\n",
    "standard deviation = 7.47"
   ]
  },
  {
   "cell_type": "code",
   "execution_count": null,
   "metadata": {
    "collapsed": true
   },
   "outputs": [],
   "source": []
  }
 ],
 "metadata": {
  "kernelspec": {
   "display_name": "Python 2",
   "language": "python",
   "name": "python2"
  },
  "language_info": {
   "codemirror_mode": {
    "name": "ipython",
    "version": 2
   },
   "file_extension": ".py",
   "mimetype": "text/x-python",
   "name": "python",
   "nbconvert_exporter": "python",
   "pygments_lexer": "ipython2",
   "version": "2.7.14"
  }
 },
 "nbformat": 4,
 "nbformat_minor": 2
}
