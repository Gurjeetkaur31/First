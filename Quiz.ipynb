{
 "cells": [
  {
   "cell_type": "markdown",
   "metadata": {},
   "source": [
    "#  Concept Of List In Python."
   ]
  },
  {
   "cell_type": "code",
   "execution_count": 4,
   "metadata": {},
   "outputs": [
    {
     "name": "stdout",
     "output_type": "stream",
     "text": [
      "Pawan\n"
     ]
    }
   ],
   "source": [
    "elements = [ 89, \"Pine\", 3110, \"Gauri\", 11.11]\n",
    "elements.append(\"Samar\")\n",
    "elements.insert(0,\"Pawan\")\n",
    "print elements[0]"
   ]
  },
  {
   "cell_type": "code",
   "execution_count": 8,
   "metadata": {},
   "outputs": [
    {
     "name": "stdout",
     "output_type": "stream",
     "text": [
      "Pawan\n",
      "89\n",
      "Pine\n",
      "3110\n",
      "Gauri\n",
      "11.11\n",
      "Samar\n"
     ]
    }
   ],
   "source": [
    "for i in range(0,7):\n",
    "    print elements[i]"
   ]
  },
  {
   "cell_type": "code",
   "execution_count": 33,
   "metadata": {},
   "outputs": [
    {
     "name": "stdout",
     "output_type": "stream",
     "text": [
      "['Pawan', 89, 'Pine']\n",
      "['Pine', 3110, 'Gauri']\n"
     ]
    }
   ],
   "source": [
    "print elements[0:3]\n",
    "print elements[2:5]"
   ]
  },
  {
   "cell_type": "code",
   "execution_count": 16,
   "metadata": {},
   "outputs": [
    {
     "name": "stdout",
     "output_type": "stream",
     "text": [
      "['Pawan', 89, 'Pine', 3110, 'Gauri', 11.11, 'Samar']\n"
     ]
    }
   ],
   "source": [
    "print elements[:] # prints all the elements in the list."
   ]
  },
  {
   "cell_type": "code",
   "execution_count": 18,
   "metadata": {},
   "outputs": [
    {
     "name": "stdout",
     "output_type": "stream",
     "text": [
      "['Pawan', 89, 'Pine', 3110, 'Gauri', 11.11, 'Samar']\n"
     ]
    }
   ],
   "source": [
    "print elements[::] # prints all the elements in the list."
   ]
  },
  {
   "cell_type": "code",
   "execution_count": 20,
   "metadata": {},
   "outputs": [
    {
     "name": "stdout",
     "output_type": "stream",
     "text": [
      "['Pawan', 'Pine', 'Gauri', 'Samar']\n"
     ]
    }
   ],
   "source": [
    "print elements[::2]"
   ]
  },
  {
   "cell_type": "code",
   "execution_count": 32,
   "metadata": {},
   "outputs": [
    {
     "name": "stdout",
     "output_type": "stream",
     "text": [
      "['Pawan', 89, 'Pine', 3110, 'Gauri']\n",
      "['Samar', 'Gauri', 'Pine', 'Pawan']\n",
      "['Samar', 11.11, 'Gauri', 3110, 'Pine', 89, 'Pawan']\n",
      "['Pawan', 89, 'Pine', 3110, 'Gauri', 11.11]\n",
      "['Pawan', 89, 'Pine', 3110, 'Gauri', 11.11]\n",
      "['Pawan', 89, 'Pine', 3110, 'Gauri', 11.11, 'Samar']\n"
     ]
    }
   ],
   "source": [
    "print elements[:-2] # execution starts from 0 index and -2 signifies not including last two elements in the list to the output.\n",
    "print elements[::-2] # execution starts from last index in the list. \n",
    "print elements[::-1] # execution starts from last index in the list. \n",
    "print elements[:-1] # execution starts from 0 index and -1 signifies not including last element in the list to the output.\n",
    "print elements[:6]\n",
    "print elements[::]"
   ]
  },
  {
   "cell_type": "code",
   "execution_count": 36,
   "metadata": {},
   "outputs": [
    {
     "name": "stdout",
     "output_type": "stream",
     "text": [
      "[3110]\n",
      "['Samar', 11.11]\n",
      "['Samar']\n",
      "[89, 'Pine', 3110, 'Gauri']\n"
     ]
    }
   ],
   "source": [
    "print elements[3:5:2]\n",
    "print elements[:4:-1]\n",
    "print elements[:-2:-1]\n",
    "print elements[-6:-2]"
   ]
  },
  {
   "cell_type": "markdown",
   "metadata": {},
   "source": [
    "# Concept Of Dictionaries In Python."
   ]
  },
  {
   "cell_type": "code",
   "execution_count": 6,
   "metadata": {},
   "outputs": [
    {
     "name": "stdout",
     "output_type": "stream",
     "text": [
      "Python A++\n",
      "Java A\n",
      "C++ B\n"
     ]
    }
   ],
   "source": [
    "student = {\n",
    "  'Python': 'A++',\n",
    "  'C++': 'B',\n",
    "  'Java': 'A'\n",
    "}\n",
    "for i in student:\n",
    "    print i,student[i]\n",
    "key = raw_input()\n",
    "if key in student:\n",
    "    print \"Key present.\"\n",
    "else:\n",
    "    print \"Key does not exist.\""
   ]
  },
  {
   "cell_type": "code",
   "execution_count": 5,
   "metadata": {},
   "outputs": [
    {
     "name": "stdout",
     "output_type": "stream",
     "text": [
      "['Python', 'Java', 'C++']\n"
     ]
    }
   ],
   "source": [
    "print student.keys()\n",
    "for x in student:\n",
    "    print x, student[x]"
   ]
  },
  {
   "cell_type": "code",
   "execution_count": 7,
   "metadata": {},
   "outputs": [
    {
     "name": "stdout",
     "output_type": "stream",
     "text": [
      "Age [20, 25, 18]\n",
      "Name ['Appie', 'Mil', 'Fil']\n"
     ]
    }
   ],
   "source": [
    "friends = {\n",
    "    'Name' : [\"Appie\",\"Mil\",\"Fil\"],\n",
    "    'Age' : [20,25,18],\n",
    "}\n",
    "for x in friends:\n",
    "    print x, friends[x]\n",
    "#print friends['Name']"
   ]
  },
  {
   "cell_type": "markdown",
   "metadata": {},
   "source": [
    "# Functions In Python."
   ]
  },
  {
   "cell_type": "code",
   "execution_count": 1,
   "metadata": {},
   "outputs": [
    {
     "name": "stdout",
     "output_type": "stream",
     "text": [
      "Please enter a number:10\n",
      "not prime\n"
     ]
    }
   ],
   "source": [
    "def main():\n",
    "    n = input(\"Please enter a number:\")\n",
    "    is_prime(n)\n",
    "\n",
    "def is_prime(a):\n",
    "    x = True \n",
    "    for i in (2, a):\n",
    "            while x:\n",
    "               if a%i == 0:\n",
    "                   x = False\n",
    "               else:\n",
    "                   x = True\n",
    "\n",
    "\n",
    "    if x:\n",
    "        print \"prime\"\n",
    "    else:\n",
    "        print \"not prime\"\n",
    "\n",
    "main()"
   ]
  },
  {
   "cell_type": "code",
   "execution_count": 9,
   "metadata": {},
   "outputs": [],
   "source": [
    "\n",
    "def is_prime(x):\n",
    "    for i in range(2, int(x**(0.5)) + 1):\n",
    "        if x%i == 0:\n",
    "            return False\n",
    "    return True"
   ]
  },
  {
   "cell_type": "code",
   "execution_count": 11,
   "metadata": {},
   "outputs": [
    {
     "name": "stdout",
     "output_type": "stream",
     "text": [
      "True\n"
     ]
    }
   ],
   "source": [
    "print is_prime(89)"
   ]
  },
  {
   "cell_type": "code",
   "execution_count": 13,
   "metadata": {},
   "outputs": [
    {
     "name": "stdout",
     "output_type": "stream",
     "text": [
      "True\n"
     ]
    }
   ],
   "source": [
    "print is_prime(1)"
   ]
  },
  {
   "cell_type": "code",
   "execution_count": 15,
   "metadata": {},
   "outputs": [
    {
     "name": "stdout",
     "output_type": "stream",
     "text": [
      "False\n"
     ]
    }
   ],
   "source": [
    "print is_prime(100)"
   ]
  },
  {
   "cell_type": "markdown",
   "metadata": {},
   "source": [
    "# Classes In Python."
   ]
  },
  {
   "cell_type": "code",
   "execution_count": 16,
   "metadata": {
    "collapsed": true
   },
   "outputs": [],
   "source": [
    "class Cars:    \n",
    "    def __init__(self, name, make_year, model, top_speed):\n",
    "        self.name = name\n",
    "        self.make_year = make_year\n",
    "        self.model = model\n",
    "        self.top_speed = top_speed"
   ]
  },
  {
   "cell_type": "code",
   "execution_count": 18,
   "metadata": {
    "collapsed": true
   },
   "outputs": [],
   "source": [
    "Alto = Cars('Alto', '2005', 'LXI', '120KMph')"
   ]
  },
  {
   "cell_type": "code",
   "execution_count": 19,
   "metadata": {},
   "outputs": [
    {
     "name": "stdout",
     "output_type": "stream",
     "text": [
      "Alto 2005\n"
     ]
    }
   ],
   "source": [
    "print Alto.name, Alto.make_year"
   ]
  },
  {
   "cell_type": "code",
   "execution_count": null,
   "metadata": {
    "collapsed": true
   },
   "outputs": [],
   "source": []
  }
 ],
 "metadata": {
  "kernelspec": {
   "display_name": "Python 2",
   "language": "python",
   "name": "python2"
  },
  "language_info": {
   "codemirror_mode": {
    "name": "ipython",
    "version": 2
   },
   "file_extension": ".py",
   "mimetype": "text/x-python",
   "name": "python",
   "nbconvert_exporter": "python",
   "pygments_lexer": "ipython2",
   "version": "2.7.14"
  }
 },
 "nbformat": 4,
 "nbformat_minor": 2
}
